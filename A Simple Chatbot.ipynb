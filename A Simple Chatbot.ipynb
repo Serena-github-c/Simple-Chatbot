{
 "cells": [
  {
   "cell_type": "markdown",
   "id": "70590046-2a8c-4df2-b120-15afeafdcb65",
   "metadata": {},
   "source": [
    "## A simple chatbot"
   ]
  },
  {
   "cell_type": "markdown",
   "id": "4905cffc-c044-4809-b392-bf81b7e2bc78",
   "metadata": {},
   "source": [
    "Imagine you own an online store that sells various tech gadgets. You often receive common questions regarding product specifications, return policies, shipping methods, and technical troubleshooting. To streamline customer support and provide immediate assistance, we decide to implement a simple chatbot that can respond to customer inquiries about:\n",
    "   - Product Information (e.g., \"Tell me about product X\", \"Do you have smartwatches?\")\n",
    "   - Shipping Details (e.g., \"How long does shipping take?\", \"What shipping methods are available?\")\n",
    "   - Return Policy (e.g., \"What is your return policy?\", \"How do I return a product?\")\n",
    "   - Technical Support (e.g., \"My gadget won’t turn on\", \"How do I reset my device?\")\n",
    "\n",
    "The chatbot is able to:\n",
    "   - Greet the user.\n",
    "   - Understand and respond to specific questions about products, shipping, returns, and support.\n",
    "   - Provide a default response for unrecognized queries.\n",
    "   - Politely end the conversation.\n",
    "\n",
    "\n",
    "     "
   ]
  },
  {
   "cell_type": "code",
   "execution_count": 1,
   "id": "47a7a78b-eeff-46eb-80c2-d664cb735cc4",
   "metadata": {},
   "outputs": [],
   "source": [
    "import re\n",
    "from difflib import get_close_matches"
   ]
  },
  {
   "cell_type": "code",
   "execution_count": 4,
   "id": "fe644ac3-a6ab-4096-ab71-097ca0d1da6e",
   "metadata": {},
   "outputs": [],
   "source": [
    "synonyms = {\n",
    "    \"hi\": [\"hello\", \"hey\", \"hi\"],\n",
    "    \"do you have smartwatches\": [\"smartwatch\", \"smart watch\", \"do you sell smartwatches\"],\n",
    "    \"shipping time\": [\"shipping time\", \"how long does shipping take\"],\n",
    "    \"shipping methods\": [\"shipping methods\", \"what shipping methods\", \"delivery methods\"],\n",
    "    \"return policy\": [\"return policy\", \"how to return\", \"can i return\"],\n",
    "    \"won't turn on\": [\"won't turn on\", \"gadget not turning on\", \"device won't start\"],\n",
    "    \"reset device\": [\"reset device\", \"how to reset\", \"reset my gadget\"],\n",
    "    \"bye\": [\"bye\", \"goodbye\", \"see you later\"],\n",
    "    \"thank you\": [\"thank you\", \"thanks\", \"thank you so much\"],\n",
    "}\n",
    "\n",
    "# Define responses for each primary keyword\n",
    "responses = {\n",
    "    \"hi\": \"Hello! Welcome to TechGadget Support. How can I assist you today?\",\n",
    "    \"do you have smartwatches\": \"Yes, we have a variety of smartwatches. You can check them out on our products page.\",\n",
    "    \"shipping time\": \"Shipping usually takes 3-5 business days.\",\n",
    "    \"shipping methods\": \"We offer standard, expedited, and overnight shipping.\",\n",
    "    \"return policy\": \"You can return products within 30 days of receipt for a full refund.\",\n",
    "    \"won't turn on\": \"Make sure your gadget is charged. If it still won’t turn on, you can visit our troubleshooting page.\",\n",
    "    \"reset device\": \"To reset your device, hold down the power button for 10 seconds. If that doesn't work, please check the manual for a factory reset.\",\n",
    "    \"bye\": \"Thank you for visiting TechGadget. If you have more questions, feel free to ask. Goodbye!\",\n",
    "    \"thank you\": \"You're welcome! Is there anything else I can help you with?\",\n",
    "}"
   ]
  },
  {
   "cell_type": "code",
   "execution_count": 11,
   "id": "4336aa59-af15-4bf3-8bee-1ba84ba491c3",
   "metadata": {},
   "outputs": [],
   "source": [
    "# if a customer says something the bot doesn't understand multiple times, it directs them to a human customer service representative\n",
    "\n",
    "no_answer_count = 0\n",
    "def get_response(user_input):\n",
    "    global no_answer_count\n",
    "    user_input = user_input.lower().strip()\n",
    "    user_tokens = re.findall(r'\\b\\w+\\b', user_input)\n",
    "    # check if the user input contains one of the keywords\n",
    "    for key, variations in synonyms.items():\n",
    "        if any(var in user_input for var in variations):\n",
    "            no_answer_count = 0 \n",
    "            return responses[key]\n",
    "        \n",
    "\n",
    "    #  Find close matches between user input and variations\n",
    "        close_match = get_close_matches(user_input, variations, n=1, cutoff=0.8)\n",
    "        if close_match:\n",
    "            no_answer_count = 0 \n",
    "            return responses[key]\n",
    "\n",
    "    no_answer_count += 1\n",
    "    \n",
    "    if no_answer_count >= 3:\n",
    "        return \"It seems like I'm having trouble understanding your queries. Let me connect you to a customer service representative.\"\n",
    "\n",
    "\n",
    "    return \"I'm not sure how to respond to that. Can you try asking something else?\"\n",
    "        \n"
   ]
  },
  {
   "cell_type": "code",
   "execution_count": 12,
   "id": "323089b4-50f2-48ac-88d6-3bb13597b237",
   "metadata": {},
   "outputs": [
    {
     "name": "stdout",
     "output_type": "stream",
     "text": [
      "(i). Enter the word (exit) to end the conversation.\n",
      "\n"
     ]
    },
    {
     "name": "stdin",
     "output_type": "stream",
     "text": [
      "You:  digital camre\n"
     ]
    },
    {
     "name": "stdout",
     "output_type": "stream",
     "text": [
      "Bot: I'm not sure how to respond to that. Can you try asking something else?\n"
     ]
    },
    {
     "name": "stdin",
     "output_type": "stream",
     "text": [
      "You:  jjkda\n"
     ]
    },
    {
     "name": "stdout",
     "output_type": "stream",
     "text": [
      "Bot: I'm not sure how to respond to that. Can you try asking something else?\n"
     ]
    },
    {
     "name": "stdin",
     "output_type": "stream",
     "text": [
      "You:  fa\n"
     ]
    },
    {
     "name": "stdout",
     "output_type": "stream",
     "text": [
      "Bot: It seems like I'm having trouble understanding your queries. Let me connect you to a customer service representative.\n"
     ]
    },
    {
     "name": "stdin",
     "output_type": "stream",
     "text": [
      "You:  exit\n"
     ]
    },
    {
     "name": "stdout",
     "output_type": "stream",
     "text": [
      "Bot: Goodbye! If you have any more questions, we're here to help.\n"
     ]
    }
   ],
   "source": [
    "print (\"(i). Enter the word (exit) to end the conversation.\\n\")\n",
    "while True:\n",
    "    user_input = input(\"You: \")\n",
    "    if user_input.lower().strip() in [\"exit\", \"quit\"]:\n",
    "        print(\"Bot: Goodbye! If you have any more questions, we're here to help.\")\n",
    "        break\n",
    "\n",
    "    response = get_response(user_input)\n",
    "    print(\"Bot:\", response)"
   ]
  },
  {
   "cell_type": "code",
   "execution_count": null,
   "id": "d66613ff-7106-4549-960b-54f23efa5970",
   "metadata": {},
   "outputs": [],
   "source": []
  },
  {
   "cell_type": "code",
   "execution_count": null,
   "id": "3a4e5ad8-6d3c-4e22-8224-caf98cf6a053",
   "metadata": {},
   "outputs": [],
   "source": []
  }
 ],
 "metadata": {
  "kernelspec": {
   "display_name": "Python 3 (ipykernel)",
   "language": "python",
   "name": "python3"
  },
  "language_info": {
   "codemirror_mode": {
    "name": "ipython",
    "version": 3
   },
   "file_extension": ".py",
   "mimetype": "text/x-python",
   "name": "python",
   "nbconvert_exporter": "python",
   "pygments_lexer": "ipython3",
   "version": "3.11.2"
  }
 },
 "nbformat": 4,
 "nbformat_minor": 5
}
